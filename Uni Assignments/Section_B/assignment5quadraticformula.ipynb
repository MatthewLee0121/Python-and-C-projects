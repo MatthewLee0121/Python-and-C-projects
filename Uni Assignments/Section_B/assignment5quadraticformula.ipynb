{
 "cells": [
  {
   "cell_type": "markdown",
   "metadata": {},
   "source": [
    "Project 6: Solve a quadratic equation\n",
    "\n",
    "Objective:\n",
    "\n",
    "Learn how to use Python to solve a quadratic equation of the form 𝑎𝑥2\n",
    "+𝑏𝑥 + 𝑐 = 0, and handle different cases based on the discriminant.\n",
    "\n",
    "Instructions:\n",
    "\n",
    "1. The general form of a quadratic equation is:\n",
    "𝑎𝑥2 + 𝑏𝑥 + 𝑐 = 0\n",
    "\n",
    "where a, b, and c are constants and x represents the unknown\n",
    "variable.\n",
    "\n",
    "2. The solutions for x are given by the quadratic formula:\n",
    "𝑥 = -𝑏± sqrt(𝑏2 4𝑎𝑐)/2𝑎\n",
    "\n",
    "where:\n",
    "\n",
    "        o 𝑏2 ―4𝑎𝑐 is called the\n",
    "        discriminant.\n",
    "        \n",
    "        o If the discriminant is positive, the equation has two real\n",
    "        solutions.\n",
    "        o If the discriminant is zero, the equation has one real solution.\n",
    "        o If the discriminant is negative, the equation has no real\n",
    "        solutions.\n",
    "\n",
    "3. Write a Python function solve_quadratic(a, b, c) that takes the\n",
    "coefficients a, b, and c as inputs and prints the real solutions if they\n",
    "exist. The function should:\n",
    "\n",
    "        o Calculate the discriminant.\n",
    "        o Determine the number of real solutions based on the\n",
    "        discriminant.\n",
    "        o If the discriminant is non-negative, calculate and print the\n",
    "        solutions.\n",
    "        o If the discriminant is negative, print a message saying that\n",
    "        there are no real solutions.\n",
    "\n",
    "• Hint:\n",
    "\n",
    "        You will need to import the math module to use the sqrt() function for the\n",
    "        square root calculation:\n",
    "\n",
    "            import math\n",
    "            \n",
    "Extension: Modify the function to handle cases where a = 0 (which would\n",
    "make the equation linear rather than quadratic). Output an appropriate\n",
    "message for this case."
   ]
  },
  {
   "cell_type": "markdown",
   "metadata": {},
   "source": [
    "Lets first define the function and have it return 0"
   ]
  },
  {
   "cell_type": "code",
   "execution_count": null,
   "metadata": {},
   "outputs": [],
   "source": [
    "def solve_quadratic(a, b, c):\n",
    "    return 0"
   ]
  },
  {
   "cell_type": "markdown",
   "metadata": {},
   "source": [
    "now for some comments"
   ]
  },
  {
   "cell_type": "code",
   "execution_count": null,
   "metadata": {},
   "outputs": [],
   "source": [
    "def solve_quadratic(a, b, c):\n",
    "    #need to calculate discriminate will use a variable for this\n",
    "    #need to then take this value and perform some more maths to get a root\n",
    "    #should store each root as variable so we can print it\n",
    "    #should from import math\n",
    "    return 0"
   ]
  },
  {
   "cell_type": "markdown",
   "metadata": {},
   "source": [
    "will import math and also calculate discriminate in next equation"
   ]
  },
  {
   "cell_type": "code",
   "execution_count": null,
   "metadata": {},
   "outputs": [],
   "source": [
    "import math\n",
    "\n",
    "def solve_quadratic(a, b, c):\n",
    "    #need to calculate discriminate will use a variable for this\n",
    "    #need to then take this value and perform some more maths to get a root\n",
    "    #should store each root as variable so we can print it\n",
    "    discriminate = (b**2 - (4 * a * c))\n",
    "    print(discriminate)\n",
    "    return 0"
   ]
  },
  {
   "cell_type": "markdown",
   "metadata": {},
   "source": [
    "now lets add some test cases to see if everything is working if I use a = 1 b = 2 c = 3 we should get 4-(4*1*3) = 4 - 12 = -8"
   ]
  },
  {
   "cell_type": "markdown",
   "metadata": {},
   "source": [
    "and a = 4 b = 5 c = 6 should give 25 - (4* 4 * 6) = 25 - 96 = -71"
   ]
  },
  {
   "cell_type": "code",
   "execution_count": null,
   "metadata": {},
   "outputs": [],
   "source": [
    "import math\n",
    "\n",
    "def solve_quadratic(a, b, c):\n",
    "    #need to calculate discriminate will use a variable for this\n",
    "    #need to then take this value and perform some more maths to get a root\n",
    "    #should store each root as variable so we can print it\n",
    "    discriminate = (b**2 - (4 * a * c))\n",
    "    print(discriminate)\n",
    "\n",
    "solve_quadratic(1, 2, 3)\n",
    "solve_quadratic(4, 5, 6)"
   ]
  },
  {
   "cell_type": "markdown",
   "metadata": {},
   "source": [
    "seems good, lets now calculate our roots"
   ]
  },
  {
   "cell_type": "code",
   "execution_count": null,
   "metadata": {},
   "outputs": [],
   "source": [
    "import math\n",
    "\n",
    "def solve_quadratic(a, b, c):\n",
    "    #need to calculate discriminate will use a variable for this\n",
    "    #need to then take this value and perform some more maths to get a root\n",
    "    #should store each root as variable so we can print it\n",
    "    discriminate = (b**2 - (4 * a * c))\n",
    "    \n",
    "    if discriminate == 0:\n",
    "        root = (b * -1) / (2 * a)\n",
    "        print(f\"\"\"The discriminate is {discriminate},\n",
    "                            therefor this equations has 1 solution.\n",
    "                                solution: {root}\"\"\")\n",
    "    elif discriminate > 0:\n",
    "        root1, root2 = ((b * -1) + math.sqrt(discriminate)) / (2 * a) , ((b * -1) - math.sqrt(discriminate)) / (2 * a)\n",
    "        print(f\"\"\"The discriminate is {discriminate} which is greater than 0,\n",
    "                            therefor this equations has 2 solutions.\n",
    "                                solution 1 : {root1} || solution 2 : {root2}\"\"\")\n",
    "    else:\n",
    "        print(f\"\"\"The discriminate is {discriminate} which is less than 0,\n",
    "                            therefor this equations has no solutions.\"\"\")\n",
    "    \n",
    "solve_quadratic(1, 4, 5)\n",
    "solve_quadratic(1, -2, 2)\n",
    "solve_quadratic(1, -4, 4)\n",
    "solve_quadratic(9, -12, 4)\n",
    "solve_quadratic(1, -3, -4)\n",
    "solve_quadratic(2, 5, -3)\n"
   ]
  },
  {
   "cell_type": "markdown",
   "metadata": {},
   "source": [
    "Looks good to me :D lets move to the extension!\n",
    "\n",
    "Extension: Modify the function to handle cases where a = 0 (which would\n",
    "make the equation linear rather than quadratic). Output an appropriate\n",
    "message for this case.\n"
   ]
  },
  {
   "cell_type": "markdown",
   "metadata": {},
   "source": [
    "seems pretty easy lets add a small if statement then we can use some variables to adjust the equation and get an easy answer"
   ]
  },
  {
   "cell_type": "code",
   "execution_count": 14,
   "metadata": {},
   "outputs": [
    {
     "name": "stdout",
     "output_type": "stream",
     "text": [
      "The discriminate is -4 which is less than 0,\n",
      "                            therefor this equations has no solutions.\n",
      "The discriminate is -4 which is less than 0,\n",
      "                            therefor this equations has no solutions.\n",
      "The discriminate is 0,\n",
      "                            therefor this equations has 1 solution.\n",
      "                                solution: 2.0\n",
      "The discriminate is 0,\n",
      "                            therefor this equations has 1 solution.\n",
      "                                solution: 0.6666666666666666\n",
      "The discriminate is 25 which is greater than 0,\n",
      "                            therefor this equations has 2 solutions.\n",
      "                                solution 1 : 4.0 || solution 2 : -1.0\n",
      "The discriminate is 49 which is greater than 0,\n",
      "                            therefor this equations has 2 solutions.\n",
      "                                solution 1 : 0.5 || solution 2 : -3.0\n",
      "Since the coefficient of x^2 is 0 this equation is linear, the quadratic formula is not needed here\n",
      "                    we can rearrange the equation from the form bx + c to find x.\n",
      "                            x = 0.6\n",
      "This is an invalid equation as the coefficient of X and x^2 are 0,\n",
      "                    2 = 0\n"
     ]
    }
   ],
   "source": [
    "import math\n",
    "\n",
    "def solve_quadratic(a, b, c):\n",
    "    #need to calculate discriminate will use a variable for this\n",
    "    #need to then take this value and perform some more maths to get a root\n",
    "    #should store each root as variable so we can print it\n",
    "    discriminate = (b**2 - (4 * a * c))\n",
    "    \n",
    "    if a == 0:\n",
    "        solve_linear(b, c)\n",
    "        return\n",
    "    \n",
    "    discriminate = (b**2 - (4 * a * c))\n",
    "\n",
    "    if discriminate == 0:\n",
    "        root = (b * -1) / (2 * a)\n",
    "        print(f\"\"\"The discriminate is {discriminate},\n",
    "                            therefor this equations has 1 solution.\n",
    "                                solution: {root}\"\"\")\n",
    "    elif discriminate > 0:\n",
    "        root1, root2 = ((b * -1) + math.sqrt(discriminate)) / (2 * a) , ((b * -1) - math.sqrt(discriminate)) / (2 * a)\n",
    "        print(f\"\"\"The discriminate is {discriminate} which is greater than 0,\n",
    "                            therefor this equations has 2 solutions.\n",
    "                                solution 1 : {root1} || solution 2 : {root2}\"\"\")\n",
    "    else:\n",
    "        print(f\"\"\"The discriminate is {discriminate} which is less than 0,\n",
    "                            therefor this equations has no solutions.\"\"\")\n",
    "        \n",
    "def solve_linear(b, c):\n",
    "    if b == 0:\n",
    "    #if a is 0 and b is 0 then the equation is invalid so lets let the user know.\n",
    "        print(f\"\"\"This is an invalid equation as the coefficient of X and x^2 are 0,\n",
    "                    {c} = 0\"\"\")\n",
    "    else:\n",
    "        #A is zero equation is linear we can solve with x = -c/b for the equation bx + c = 0 we must check b is not 0\n",
    "        solution = (-1 * (c / b))\n",
    "        print(f\"\"\"Since the coefficient of x^2 is 0 this equation is linear, the quadratic formula is not needed here\n",
    "                    we can rearrange the equation from the form bx + c to find x.\n",
    "                            x = {solution}\"\"\")\n",
    "    \n",
    "solve_quadratic(1, 4, 5)\n",
    "solve_quadratic(1, -2, 2)\n",
    "solve_quadratic(1, -4, 4)\n",
    "solve_quadratic(9, -12, 4)\n",
    "solve_quadratic(1, -3, -4)\n",
    "solve_quadratic(2, 5, -3)\n",
    "solve_quadratic(0, 5, -3)\n",
    "solve_quadratic(0, 0, 2) # 0x + 2 = 0 -> 2 = 0 impossible."
   ]
  }
 ],
 "metadata": {
  "kernelspec": {
   "display_name": "Python 3",
   "language": "python",
   "name": "python3"
  },
  "language_info": {
   "codemirror_mode": {
    "name": "ipython",
    "version": 3
   },
   "file_extension": ".py",
   "mimetype": "text/x-python",
   "name": "python",
   "nbconvert_exporter": "python",
   "pygments_lexer": "ipython3",
   "version": "3.11.9"
  }
 },
 "nbformat": 4,
 "nbformat_minor": 2
}
