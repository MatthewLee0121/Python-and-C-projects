{
 "cells": [
  {
   "cell_type": "markdown",
   "metadata": {},
   "source": [
    "Project 10: Solving Systems of Linear Equations\n",
    "\n",
    "    Objective:\n",
    "        Use Python to solve a system of linear equations.\n",
    "\n",
    "    Instructions:\n",
    "\n",
    "\t    Consider a system of two linear equations:\n",
    "            a_1 x+b_1 y=c_1\n",
    "            a_2 x+b_2 y=c_2 \n",
    "Write a Python function solve_system(a1, b1, c1, a2, b2, c2) that solves for x and y using basic algebraic techniques (substitution or elimination).\n",
    "\tPrint the values of x and y if a unique solution exists. If no solution or infinitely many solutions exist, print an appropriate message.\n",
    "\t\n",
    "    Extension:\n",
    "        Modify the function to handle systems of three equations in three variables, or use Python's NumPy library to solve the system using matrix methods.\n"
   ]
  },
  {
   "cell_type": "markdown",
   "metadata": {},
   "source": [
    "The First thing i will do is define the function, and just have it return 0"
   ]
  },
  {
   "cell_type": "code",
   "execution_count": null,
   "metadata": {},
   "outputs": [],
   "source": [
    "def solve_system(a1, b1, c1, a2, b2, c2):\n",
    "    return 0"
   ]
  },
  {
   "cell_type": "markdown",
   "metadata": {},
   "source": [
    "Next i will add some comments so it is easy to remember what we are trying to achieve."
   ]
  },
  {
   "cell_type": "code",
   "execution_count": null,
   "metadata": {},
   "outputs": [],
   "source": [
    "def solve_system(a1, b1, c1, a2, b2, c2):\n",
    "    #equation 1 is a1(x)+ b1(y) = c1\n",
    "    #equation 2 is a2(x)+ b2(y) = c2\n",
    "    #function  should return values of x and y if a solution exists and if other situations arise then we should specify this.\n",
    "    return 0"
   ]
  },
  {
   "cell_type": "markdown",
   "metadata": {},
   "source": [
    "Okay, we have some comments and know what we are trying to achieve, now lets have a think about how we should solve these equations. There is several methods to solve simultaneous equations, the first is equating the second is subtraction or addition."
   ]
  },
  {
   "cell_type": "markdown",
   "metadata": {},
   "source": [
    "1) equating: this is a solid method for us to use, it is not very nice to write down on paper sometimes because of fractions however the PC shouldnt have these issues. we may experience bugs however via this method if we use division. the easiest way will be to only use multiplication if we want to solve to avoid fractions and rounding errors within the PC.\n",
    "\n",
    "2) subtraction or addition: This method is good when using pen and paper because it removes steps, this may lead to a more favourable o(N) within the function, however there are alot of variables and things to take into account here.\n",
    "\n",
    "I shall attempt to use equating, so as to avoid unnecessary for loops."
   ]
  },
  {
   "cell_type": "markdown",
   "metadata": {},
   "source": [
    "When equating we should first re arrange the equation so we have x on one side of the equation"
   ]
  },
  {
   "cell_type": "code",
   "execution_count": null,
   "metadata": {},
   "outputs": [
    {
     "name": "stdout",
     "output_type": "stream",
     "text": [
      "[[1, 2], [3]] [[4, 5], [6]]\n",
      "[[1], [3, -2]] [[4], [6, -5]]\n"
     ]
    },
    {
     "data": {
      "text/plain": [
       "0"
      ]
     },
     "execution_count": 1,
     "metadata": {},
     "output_type": "execute_result"
    }
   ],
   "source": [
    "def solve_system(a1, b1, c1, a2, b2, c2):\n",
    "    #equation 1 is a1(x)+ b1(y) = c1\n",
    "    #equation 2 is a2(x)+ b2(y) = c2\n",
    "    #function  should return values of x and y if a solution exists and if other situations arise then we should specify this.\n",
    "    equation1 = [[a1, b1], [c1]]\n",
    "    equation2 = [[a2, b2], [c2]]\n",
    "    print(equation1, equation2)\n",
    "    equation1, equation2, = [[a1],[c1, (b1*-1)]], [[a2],[c2, (b2*-1)]]\n",
    "    print(equation1, equation2)\n",
    "    return 0\n",
    "\n",
    "solve_system(1, 2, 3, 4, 5, 6) # output: [[1, 2], [3]] [[4, 5], [6]] -> [[1], [3, -2]] [[4], [6, -5]]\n"
   ]
  },
  {
   "cell_type": "markdown",
   "metadata": {},
   "source": [
    "Amazing the function now has only a1 and a2 on one side of the nested lists. it also moves b1 and b2 to  the otherside and makes it negative.\n",
    "\n",
    "Next step is to make the co-efficients a1 and a2 the same and then multiply by the other.\n",
    "for example is a1=2 and a2=3 then we need to multiply equation 1 by 3 and equation 2 by 6 to get the equations the same, i shall do this within a seperate function."
   ]
  },
  {
   "cell_type": "code",
   "execution_count": null,
   "metadata": {},
   "outputs": [
    {
     "name": "stdout",
     "output_type": "stream",
     "text": [
      "2 3\n",
      "3 2\n"
     ]
    },
    {
     "data": {
      "text/plain": [
       "0"
      ]
     },
     "execution_count": 2,
     "metadata": {},
     "output_type": "execute_result"
    }
   ],
   "source": [
    "def solve_system(a1, b1, c1, a2, b2, c2):\n",
    "    #equation 1 is a1(x)+ b1(y) = c1\n",
    "    #equation 2 is a2(x)+ b2(y) = c2\n",
    "    #function  should return values of x and y if a solution exists and if other situations arise then we should specify this.\n",
    "    equation1 = [[a1, b1], [c1]]\n",
    "    equation2 = [[a2, b2], [c2]]\n",
    "    equation1, equation2, = [[a1],[c1, (b1*-1)]], [[a2],[c2, (b2*-1)]]\n",
    "    return 0\n",
    "\n",
    "def equate_coeff(a1, a2):\n",
    "    [a1, a2] = [a2, a1]\n",
    "    return a1, a2\n",
    "\n",
    "\n",
    "solve_system(1, 2, 3, 4, 5, 6) # output: [[1, 2], [3]] [[4, 5], [6]] -> [[1], [3, -2]] [[4], [6, -5]]\n",
    "equate_coeff(2, 3) # output: 2  3 ---> 3  2"
   ]
  },
  {
   "cell_type": "code",
   "execution_count": null,
   "metadata": {},
   "outputs": [
    {
     "name": "stdout",
     "output_type": "stream",
     "text": [
      "equation1: [[1], [3, -2]] || equation2: [[4], [6, -5]]\n",
      "equation1: [[4], [12, -8]] || equation2: [[4], [6, -5]]\n"
     ]
    },
    {
     "data": {
      "text/plain": [
       "0"
      ]
     },
     "execution_count": 26,
     "metadata": {},
     "output_type": "execute_result"
    }
   ],
   "source": [
    "def solve_system(a1, b1, c1, a2, b2, c2):\n",
    "    #equation 1 is a1(x)+ b1(y) = c1\n",
    "    #equation 2 is a2(x)+ b2(y) = c2\n",
    "    #function  should return values of x and y if a solution exists and if other situations arise then we should specify this.\n",
    "    equation1 = [[a1, b1], [c1]]\n",
    "    equation2 = [[a2, b2], [c2]]\n",
    "    b1 = b1 * -1\n",
    "    b2 = b2 * -1\n",
    "    equation1, equation2, = [[a1],[c1, (b1)]], [[a2],[c2, (b2)]]\n",
    "    print(f'equation1: {equation1} || equation2: {equation2}')\n",
    "    multeq1, multeq2 = equate_coeff(a1, a2) #gets A2 and multiplies each section of equation 1 by A2 and vise versa for A1\n",
    "    a1, b1, c1 = (variable * multeq1 for variable in (a1, b1, c1))\n",
    "    a2, b2, c2 = (variable * multeq2 for variable in (a2, b2, c2))\n",
    "\n",
    "    equation1, equation2, = [[a1],[c1, (b1)]], [[a2],[c2, (b2)]] #sets the equations with new coefficients.\n",
    "    print(f'equation1: {equation1} || equation2: {equation2}')\n",
    "    return 0\n",
    "\n",
    "def equate_coeff(a1, a2):\n",
    "    [a1, a2] = [a2, a1]\n",
    "    return a1, a2\n",
    "\n",
    "solve_system(1, 2, 3, 4, 5, 6)"
   ]
  },
  {
   "cell_type": "markdown",
   "metadata": {},
   "source": [
    "Amazing, the function equate_coeff, will swap the a1 and a2 values for us allowing us to multiply each equation via the other. now we need a 3rd equation to collect b1 b2 c1 c2"
   ]
  },
  {
   "cell_type": "code",
   "execution_count": null,
   "metadata": {},
   "outputs": [
    {
     "name": "stdout",
     "output_type": "stream",
     "text": [
      "equation1: [[1], [3, -2]] || equation2: [[4], [6, -5]]\n",
      "equation1: [[4], [12, -8]] || equation2: [[4], [6, -5]]\n",
      "equation1: [[4], [12, -8]] || equation2: [[4], [6, -5]] ||  equation3: [[12, -8], [6, -5]]\n"
     ]
    },
    {
     "data": {
      "text/plain": [
       "0"
      ]
     },
     "execution_count": 27,
     "metadata": {},
     "output_type": "execute_result"
    }
   ],
   "source": [
    "def solve_system(a1, b1, c1, a2, b2, c2):\n",
    "    #equation 1 is a1(x)+ b1(y) = c1\n",
    "    #equation 2 is a2(x)+ b2(y) = c2\n",
    "    #function  should return values of x and y if a solution exists and if other situations arise then we should specify this.\n",
    "    equation1 = [[a1, b1], [c1]]\n",
    "    equation2 = [[a2, b2], [c2]]\n",
    "    b1 = b1 * -1\n",
    "    b2 = b2 * -1\n",
    "    equation1, equation2, = [[a1],[c1, (b1)]], [[a2],[c2, (b2)]]\n",
    "    print(f'equation1: {equation1} || equation2: {equation2}')\n",
    "    multeq1, multeq2 = equate_coeff(a1, a2) #gets A2 and multiplies each section of equation 1 by A2 and vise versa for A1\n",
    "    a1, b1, c1 = (variable * multeq1 for variable in (a1, b1, c1))\n",
    "    a2, b2, c2 = (variable * multeq2 for variable in (a2, b2, c2))\n",
    "\n",
    "    equation1, equation2, = [[a1],[c1, (b1)]], [[a2],[c2, (b2)]] #sets the equations with new coefficients.\n",
    "    print(f'equation1: {equation1} || equation2: {equation2}')\n",
    "    equation3 = [[c1, b1],[c2, b2]] #equation 3 is basically y1 + c1 = y2 + c2\n",
    "    print(f'equation1: {equation1} || equation2: {equation2} ||  equation3: {equation3}')\n",
    "    return 0\n",
    "\n",
    "def equate_coeff(a1, a2):\n",
    "    [a1, a2] = [a2, a1]\n",
    "    return a1, a2\n",
    "\n",
    "solve_system(1, 2, 3, 4, 5, 6)"
   ]
  },
  {
   "cell_type": "markdown",
   "metadata": {},
   "source": [
    "Amazing now to rearrange equation 3 so we have Y values and constants. To achieve this i shall call some new variables c3 and b3 i shall then make equation3 == c3 , b3"
   ]
  },
  {
   "cell_type": "code",
   "execution_count": 29,
   "metadata": {},
   "outputs": [
    {
     "name": "stdout",
     "output_type": "stream",
     "text": [
      "equation1: [[1], [3, -2]] || equation2: [[4], [6, -5]]\n",
      "equation1: [[4], [12, -8]] || equation2: [[4], [6, -5]]\n",
      "equation1: [[4], [12, -8]] || equation2: [[4], [6, -5]] ||  equation3: [[12, -8], [6, -5]]\n",
      "equation3: [[-3], [6]]\n"
     ]
    },
    {
     "data": {
      "text/plain": [
       "0"
      ]
     },
     "execution_count": 29,
     "metadata": {},
     "output_type": "execute_result"
    }
   ],
   "source": [
    "def solve_system(a1, b1, c1, a2, b2, c2):\n",
    "    #equation 1 is a1(x)+ b1(y) = c1\n",
    "    #equation 2 is a2(x)+ b2(y) = c2\n",
    "    #function  should return values of x and y if a solution exists and if other situations arise then we should specify this.\n",
    "    equation1 = [[a1, b1], [c1]]\n",
    "    equation2 = [[a2, b2], [c2]]\n",
    "    b1 = b1 * -1\n",
    "    b2 = b2 * -1\n",
    "    equation1, equation2, = [[a1],[c1, (b1)]], [[a2],[c2, (b2)]]\n",
    "    print(f'equation1: {equation1} || equation2: {equation2}')\n",
    "    multeq1, multeq2 = equate_coeff(a1, a2) #gets A2 and multiplies each section of equation 1 by A2 and vise versa for A1\n",
    "    a1, b1, c1 = (variable * multeq1 for variable in (a1, b1, c1))\n",
    "    a2, b2, c2 = (variable * multeq2 for variable in (a2, b2, c2))\n",
    "\n",
    "    equation1, equation2, = [[a1],[c1, (b1)]], [[a2],[c2, (b2)]] #sets the equations with new coefficients.\n",
    "    print(f'equation1: {equation1} || equation2: {equation2}')\n",
    "    equation3 = [[c1, b1],[c2, b2]] #equation 3 is basically y1 + c1 = y2 + c2\n",
    "    print(f'equation1: {equation1} || equation2: {equation2} ||  equation3: {equation3}')\n",
    "    b3 = b1 - b2\n",
    "    c3 = c1 - c2\n",
    "    equation3 = [[b3],[c3]]\n",
    "    print(f'equation3: {equation3}')\n",
    "    return 0\n",
    "\n",
    "def equate_coeff(a1, a2):\n",
    "    [a1, a2] = [a2, a1]\n",
    "    return a1, a2\n",
    "\n",
    "\n",
    "solve_system(1, 2, 3, 4, 5, 6)"
   ]
  },
  {
   "cell_type": "markdown",
   "metadata": {},
   "source": [
    "The next step is to make it so that we have a value for Y to do this we divide the Y coefficient by itself and also will need to divide Cby the Y coefficient."
   ]
  },
  {
   "cell_type": "code",
   "execution_count": 33,
   "metadata": {},
   "outputs": [
    {
     "name": "stdout",
     "output_type": "stream",
     "text": [
      "equation1: [[1], [3, -2]] || equation2: [[4], [6, -5]]\n",
      "equation1: [[4], [12, -8]] || equation2: [[4], [6, -5]]\n",
      "equation1: [[4], [12, -8]] || equation2: [[4], [6, -5]] ||  equation3: [[12, -8], [6, -5]]\n",
      "equation3: [[-3], [6]]\n",
      "equation3: [[1.0], [6.0]]\n"
     ]
    },
    {
     "data": {
      "text/plain": [
       "0"
      ]
     },
     "execution_count": 33,
     "metadata": {},
     "output_type": "execute_result"
    }
   ],
   "source": [
    "def solve_system(a1, b1, c1, a2, b2, c2):\n",
    "    #equation 1 is a1(x)+ b1(y) = c1\n",
    "    #equation 2 is a2(x)+ b2(y) = c2\n",
    "    #function  should return values of x and y if a solution exists and if other situations arise then we should specify this.\n",
    "    equation1 = [[a1, b1], [c1]]\n",
    "    equation2 = [[a2, b2], [c2]]\n",
    "    b1 = b1 * -1\n",
    "    b2 = b2 * -1\n",
    "    equation1, equation2, = [[a1],[c1, (b1)]], [[a2],[c2, (b2)]]\n",
    "    print(f'equation1: {equation1} || equation2: {equation2}')\n",
    "    multeq1, multeq2 = equate_coeff(a1, a2) #gets A2 and multiplies each section of equation 1 by A2 and vise versa for A1\n",
    "    a1, b1, c1 = (variable * multeq1 for variable in (a1, b1, c1))\n",
    "    a2, b2, c2 = (variable * multeq2 for variable in (a2, b2, c2))\n",
    "\n",
    "    equation1, equation2, = [[a1],[c1, (b1)]], [[a2],[c2, (b2)]] #sets the equations with new coefficients.\n",
    "    print(f'equation1: {equation1} || equation2: {equation2}')\n",
    "    equation3 = [[c1, b1],[c2, b2]] #equation 3 is basically y1 + c1 = y2 + c2\n",
    "    print(f'equation1: {equation1} || equation2: {equation2} ||  equation3: {equation3}')\n",
    "    b3 = b1 - b2\n",
    "    c3 = c1 - c2\n",
    "    equation3 = [[b3],[c3]]\n",
    "    print(f'equation3: {equation3}')\n",
    "    b3 = b3 / b3\n",
    "    c3 = c3 / b3\n",
    "    equation3 = [[b3],[c3]]\n",
    "    print(f'equation3: {equation3}')\n",
    "    return 0\n",
    "\n",
    "def equate_coeff(a1, a2):\n",
    "    [a1, a2] = [a2, a1]\n",
    "    return a1, a2\n",
    "\n",
    "\n",
    "solve_system(1, 2, 3, 4, 5, 6)"
   ]
  },
  {
   "cell_type": "markdown",
   "metadata": {},
   "source": [
    "We Have a Bug upon debugging the code there is an issue with how i am working  out c3, since i made b3 by doing b1 - b2 i should make c3 by doing c2 - c1 instead of c1- c2 i shall now fix this"
   ]
  },
  {
   "cell_type": "code",
   "execution_count": 39,
   "metadata": {},
   "outputs": [
    {
     "name": "stdout",
     "output_type": "stream",
     "text": [
      "equation1: [[1], [3, -2]] || equation2: [[4], [6, -5]]\n",
      "equation1: [[4], [12, -8]] || equation2: [[4], [6, -5]]\n",
      "equation1: [[4], [12, -8]] || equation2: [[4], [6, -5]] ||  equation3: [[12, -8], [6, -5]]\n",
      "equation3: [[-3], [-6]]\n"
     ]
    },
    {
     "name": "stdout",
     "output_type": "stream",
     "text": [
      "equation3: [[1.0], [-6.0]]\n"
     ]
    },
    {
     "data": {
      "text/plain": [
       "0"
      ]
     },
     "execution_count": 39,
     "metadata": {},
     "output_type": "execute_result"
    }
   ],
   "source": [
    "def solve_system(a1, b1, c1, a2, b2, c2):\n",
    "    #equation 1 is a1(x)+ b1(y) = c1\n",
    "    #equation 2 is a2(x)+ b2(y) = c2\n",
    "    #function  should return values of x and y if a solution exists and if other situations arise then we should specify this.\n",
    "    equation1 = [[a1, b1], [c1]]\n",
    "    equation2 = [[a2, b2], [c2]]\n",
    "    b1 = b1 * -1\n",
    "    b2 = b2 * -1\n",
    "    equation1, equation2, = [[a1],[c1, (b1)]], [[a2],[c2, (b2)]]\n",
    "    print(f'equation1: {equation1} || equation2: {equation2}')\n",
    "    multeq1, multeq2 = equate_coeff(a1, a2) #gets A2 and multiplies each section of equation 1 by A2 and vise versa for A1\n",
    "    a1, b1, c1 = (variable * multeq1 for variable in (a1, b1, c1))\n",
    "    a2, b2, c2 = (variable * multeq2 for variable in (a2, b2, c2))\n",
    "\n",
    "    equation1, equation2, = [[a1],[c1, (b1)]], [[a2],[c2, (b2)]] #sets the equations with new coefficients.\n",
    "    print(f'equation1: {equation1} || equation2: {equation2}')\n",
    "    equation3 = [[c1, b1],[c2, b2]] #equation 3 is basically y1 + c1 = y2 + c2\n",
    "    print(f'equation1: {equation1} || equation2: {equation2} ||  equation3: {equation3}')\n",
    "    b3 = b1 - b2\n",
    "    c3 = c2 - c1\n",
    "    equation3 = [[b3],[c3]]\n",
    "    print(f'equation3: {equation3}')\n",
    "    b3 = b3 / b3\n",
    "    c3 = c3 / b3\n",
    "    equation3 = [[b3],[c3]]\n",
    "    print(f'equation3: {equation3}')\n",
    "    return 0\n",
    "\n",
    "def equate_coeff(a1, a2):\n",
    "    [a1, a2] = [a2, a1]\n",
    "    return a1, a2\n",
    "\n",
    "\n",
    "solve_system(1, 2, 3, 4, 5, 6)"
   ]
  },
  {
   "cell_type": "markdown",
   "metadata": {},
   "source": [
    "There is still a bug we get y = 1 and c = -6 we should output y = 1 c = 2 the issue must be within the dividing c3 and b3"
   ]
  },
  {
   "cell_type": "markdown",
   "metadata": {},
   "source": [
    "the bug has been caught see below image, i was using b3 to divide c3 however, i had already revalued b3 at 1, a fix could be to ignore the b3 divide and assign it a value of 1 after doing the c3 divide, however i dont want to do this as i would like to use this later on as a check. I shall need to do the c3 divide first before i revalue b3"
   ]
  },
  {
   "attachments": {
    "image.png": {
     "image/png": "[encoded data removed]"
    }
   },
   "cell_type": "markdown",
   "metadata": {},
   "source": [
    "![image.png](attachment:image.png)"
   ]
  },
  {
   "cell_type": "code",
   "execution_count": 40,
   "metadata": {},
   "outputs": [
    {
     "name": "stdout",
     "output_type": "stream",
     "text": [
      "equation1: [[1], [3, -2]] || equation2: [[4], [6, -5]]\n",
      "equation1: [[4], [12, -8]] || equation2: [[4], [6, -5]]\n",
      "equation1: [[4], [12, -8]] || equation2: [[4], [6, -5]] ||  equation3: [[12, -8], [6, -5]]\n",
      "equation3: [[-3], [-6]]\n",
      "equation3: [[1.0], [2.0]]\n"
     ]
    },
    {
     "data": {
      "text/plain": [
       "0"
      ]
     },
     "execution_count": 40,
     "metadata": {},
     "output_type": "execute_result"
    }
   ],
   "source": [
    "def solve_system(a1, b1, c1, a2, b2, c2):\n",
    "    #equation 1 is a1(x)+ b1(y) = c1\n",
    "    #equation 2 is a2(x)+ b2(y) = c2\n",
    "    #function  should return values of x and y if a solution exists and if other situations arise then we should specify this.\n",
    "    equation1 = [[a1, b1], [c1]]\n",
    "    equation2 = [[a2, b2], [c2]]\n",
    "    b1 = b1 * -1\n",
    "    b2 = b2 * -1\n",
    "    equation1, equation2, = [[a1],[c1, (b1)]], [[a2],[c2, (b2)]]\n",
    "    print(f'equation1: {equation1} || equation2: {equation2}')\n",
    "    multeq1, multeq2 = equate_coeff(a1, a2) #gets A2 and multiplies each section of equation 1 by A2 and vise versa for A1\n",
    "    a1, b1, c1 = (variable * multeq1 for variable in (a1, b1, c1))\n",
    "    a2, b2, c2 = (variable * multeq2 for variable in (a2, b2, c2))\n",
    "\n",
    "    equation1, equation2, = [[a1],[c1, (b1)]], [[a2],[c2, (b2)]] #sets the equations with new coefficients.\n",
    "    print(f'equation1: {equation1} || equation2: {equation2}')\n",
    "    equation3 = [[c1, b1],[c2, b2]] #equation 3 is basically y1 + c1 = y2 + c2\n",
    "    print(f'equation1: {equation1} || equation2: {equation2} ||  equation3: {equation3}')\n",
    "    b3 = b1 - b2\n",
    "    c3 = c2 - c1\n",
    "    equation3 = [[b3],[c3]]\n",
    "    print(f'equation3: {equation3}')\n",
    "    c3 = c3 / b3\n",
    "    b3 = b3 / b3\n",
    "    equation3 = [[b3],[c3]]\n",
    "    print(f'equation3: {equation3}')\n",
    "    return 0\n",
    "\n",
    "def equate_coeff(a1, a2):\n",
    "    [a1, a2] = [a2, a1]\n",
    "    return a1, a2\n",
    "\n",
    "\n",
    "solve_system(1, 2, 3, 4, 5, 6)"
   ]
  },
  {
   "cell_type": "markdown",
   "metadata": {},
   "source": [
    "Amazing, we now have y = 1 and c = 2 which is what my own maths leads me to, lets save this y value asa different variable and then work out x which should be easy as we already rearranged the equation earlier.\n"
   ]
  },
  {
   "cell_type": "code",
   "execution_count": 42,
   "metadata": {},
   "outputs": [
    {
     "name": "stdout",
     "output_type": "stream",
     "text": [
      "equation1: [[1], [3, -2]] || equation2: [[4], [6, -5]]\n",
      "equation1: [[4], [12, -8]] || equation2: [[4], [6, -5]]\n",
      "equation1: [[4], [12, -8]] || equation2: [[4], [6, -5]] ||  equation3: [[12, -8], [6, -5]]\n",
      "equation3: [[-3], [-6]]\n",
      "equation3: [[1.0], [2.0]]\n",
      "x = -1.0\n"
     ]
    },
    {
     "data": {
      "text/plain": [
       "0"
      ]
     },
     "execution_count": 42,
     "metadata": {},
     "output_type": "execute_result"
    }
   ],
   "source": [
    "def solve_system(a1, b1, c1, a2, b2, c2):\n",
    "    #equation 1 is a1(x)+ b1(y) = c1\n",
    "    #equation 2 is a2(x)+ b2(y) = c2\n",
    "    #function  should return values of x and y if a solution exists and if other situations arise then we should specify this.\n",
    "    equation1 = [[a1, b1], [c1]]\n",
    "    equation2 = [[a2, b2], [c2]]\n",
    "    b1 = b1 * -1\n",
    "    b2 = b2 * -1\n",
    "    equation1, equation2, = [[a1],[c1, (b1)]], [[a2],[c2, (b2)]]\n",
    "    print(f'equation1: {equation1} || equation2: {equation2}')\n",
    "    multeq1, multeq2 = equate_coeff(a1, a2) #gets A2 and multiplies each section of equation 1 by A2 and vise versa for A1\n",
    "    a1, b1, c1 = (variable * multeq1 for variable in (a1, b1, c1))\n",
    "    a2, b2, c2 = (variable * multeq2 for variable in (a2, b2, c2))\n",
    "\n",
    "    equation1, equation2, = [[a1],[c1, (b1)]], [[a2],[c2, (b2)]] #sets the equations with new coefficients.\n",
    "    print(f'equation1: {equation1} || equation2: {equation2}')\n",
    "    equation3 = [[c1, b1],[c2, b2]] #equation 3 is basically y1 + c1 = y2 + c2\n",
    "    print(f'equation1: {equation1} || equation2: {equation2} ||  equation3: {equation3}')\n",
    "    b3 = b1 - b2\n",
    "    c3 = c2 - c1\n",
    "    equation3 = [[b3],[c3]]\n",
    "    print(f'equation3: {equation3}')\n",
    "    c3 = c3 / b3\n",
    "    b3 = b3 / b3\n",
    "    equation3 = [[b3],[c3]]\n",
    "    print(f'equation3: {equation3}')\n",
    "    y =  c3\n",
    "    x = (c1 + (y * b1)) / multeq1\n",
    "    print(f'x = {x}')\n",
    "    return 0\n",
    "\n",
    "def equate_coeff(a1, a2):\n",
    "    [a1, a2] = [a2, a1]\n",
    "    return a1, a2\n",
    "\n",
    "\n",
    "solve_system(1, 2, 3, 4, 5, 6)"
   ]
  },
  {
   "cell_type": "markdown",
   "metadata": {},
   "source": [
    "Great, this worked smoothly. Now to make the final print statement then i an work on tidying up what we have as this function is big and im sure alot is unneeded."
   ]
  },
  {
   "cell_type": "code",
   "execution_count": 47,
   "metadata": {},
   "outputs": [
    {
     "name": "stdout",
     "output_type": "stream",
     "text": [
      "\n",
      "You have given us the equations:\n",
      "            2x + 3y = 8\n",
      "        And 1x + -2y = -4\n",
      "\n",
      "For the equations given we result in the following solutions:\n",
      "                  y= 2.2857142857142856\n",
      "                  x= 1.1428571428571432\n",
      "\n",
      "\n",
      "You have given us the equations:\n",
      "            4x + 5y = 9\n",
      "        And 2x + 7y = 10\n",
      "\n",
      "For the equations given we result in the following solutions:\n",
      "                  y= 1.2222222222222223\n",
      "                  x= 2.8888888888888884\n",
      "\n",
      "\n",
      "You have given us the equations:\n",
      "            -3x + 6y = 15\n",
      "        And 7x + -4y = 5\n",
      "\n",
      "For the equations given we result in the following solutions:\n",
      "                  y= 4.0\n",
      "                  x= -9.0\n",
      "\n",
      "\n",
      "You have given us the equations:\n",
      "            1x + 1y = 2\n",
      "        And 3x + 4y = 7\n",
      "\n",
      "For the equations given we result in the following solutions:\n",
      "                  y= 1.0\n",
      "                  x= 1.0\n",
      "\n",
      "\n",
      "You have given us the equations:\n",
      "            10x + -2y = 14\n",
      "        And -5x + 3y = -7\n",
      "\n",
      "For the equations given we result in the following solutions:\n",
      "                  y= 0.0\n",
      "                  x= 14.0\n",
      "\n"
     ]
    }
   ],
   "source": [
    "def solve_system(a1, b1, c1, a2, b2, c2):\n",
    "    #equation 1 is a1(x)+ b1(y) = c1\n",
    "    #equation 2 is a2(x)+ b2(y) = c2\n",
    "    #function  should return values of x and y if a solution exists and if other situations arise then we should specify this.\n",
    "    print(f\"\"\"\n",
    "You have given us the equations:\n",
    "            {a1}x + {b1}y = {c1}\n",
    "        And {a2}x + {b2}y = {c2}\"\"\")\n",
    "    equation1 = [[a1, b1], [c1]]\n",
    "    equation2 = [[a2, b2], [c2]]\n",
    "    b1 = b1 * -1\n",
    "    b2 = b2 * -1\n",
    "    equation1, equation2, = [[a1],[c1, (b1)]], [[a2],[c2, (b2)]]\n",
    "    multeq1, multeq2 = equate_coeff(a1, a2) #gets A2 and multiplies each section of equation 1 by A2 and vise versa for A1\n",
    "    a1, b1, c1 = (variable * multeq1 for variable in (a1, b1, c1))\n",
    "    a2, b2, c2 = (variable * multeq2 for variable in (a2, b2, c2))\n",
    "    equation1, equation2, = [[a1],[c1, (b1)]], [[a2],[c2, (b2)]] #sets the equations with new coefficients.\n",
    "    equation3 = [[c1, b1],[c2, b2]] #equation 3 is basically y1 + c1 = y2 + c2\n",
    "    b3 = b1 - b2\n",
    "    c3 = c2 - c1\n",
    "    equation3 = [[b3],[c3]]\n",
    "    c3 = c3 / b3\n",
    "    b3 = b3 / b3\n",
    "    equation3 = [[b3],[c3]]\n",
    "    y =  c3\n",
    "    x = (c1 + (y * b1)) / multeq1\n",
    "    print(f\"\"\"\n",
    "For the equations given we result in the following solutions:\n",
    "                  y= {y}\n",
    "                  x= {x}\n",
    "\"\"\")\n",
    "\n",
    "\n",
    "def equate_coeff(a1, a2):\n",
    "    [a1, a2] = [a2, a1]\n",
    "    return a1, a2\n",
    "\n",
    "\n",
    "#tests\n",
    "solve_system(2, 3, 8, 1, -2, -4)\n",
    "solve_system(4, 5, 9, 2, 7, 10)\n",
    "solve_system(-3, 6, 15, 7, -4, 5)\n",
    "solve_system(1, 1, 2, 3, 4, 7)\n",
    "solve_system(10, -2, 14, -5, 3, -7)\n"
   ]
  },
  {
   "cell_type": "markdown",
   "metadata": {},
   "source": [
    "I have removed the unneccssary print statements for quick debugging and then added one at the start informing us of the equation and one at the end informing us of the solution, now to look at conditions for how to figure out if infinitely many solutions exists or 0 solutions i shall perform these checks at the start in seperate functions"
   ]
  },
  {
   "cell_type": "code",
   "execution_count": 52,
   "metadata": {},
   "outputs": [
    {
     "name": "stdout",
     "output_type": "stream",
     "text": [
      "\n",
      "You have given us the equations:\n",
      "            1x + 2y = 3\n",
      "        And 2x + 4y = 6\n",
      "The given equations represent the same line, therefore infinitely many solutions exist.\n",
      "\n",
      "You have given us the equations:\n",
      "            3x + 6y = 9\n",
      "        And -3x + -6y = -9\n",
      "The given equations represent the same line, therefore infinitely many solutions exist.\n",
      "\n",
      "You have given us the equations:\n",
      "            1x + 2y = 3\n",
      "        And 2x + 4y = 7\n",
      "The given equations are parallel and have no solution.\n",
      "\n",
      "You have given us the equations:\n",
      "            5x + -3y = 10\n",
      "        And -10x + 6y = -15\n",
      "The given equations are parallel and have no solution.\n",
      "\n",
      "You have given us the equations:\n",
      "            2x + 3y = 8\n",
      "        And 1x + -2y = -4\n",
      "\n",
      "    For the equations given we result in the following solutions:\n",
      "                    y= 2.2857142857142856\n",
      "                    x= 1.1428571428571432\n",
      "    \n",
      "\n",
      "You have given us the equations:\n",
      "            4x + -2y = 6\n",
      "        And 1x + 1y = 5\n",
      "\n",
      "    For the equations given we result in the following solutions:\n",
      "                    y= 2.3333333333333335\n",
      "                    x= 10.666666666666668\n",
      "    \n",
      "\n",
      "You have given us the equations:\n",
      "            1x + 1y = 2\n",
      "        And 3x + -4y = 6\n",
      "\n",
      "    For the equations given we result in the following solutions:\n",
      "                    y= -0.0\n",
      "                    x= 2.0\n",
      "    \n",
      "\n",
      "You have given us the equations:\n",
      "            7x + -5y = 2\n",
      "        And 3x + 2y = 8\n",
      "\n",
      "    For the equations given we result in the following solutions:\n",
      "                    y= 1.7241379310344827\n",
      "                    x= 10.620689655172413\n",
      "    \n",
      "\n",
      "You have given us the equations:\n",
      "            6x + -3y = 9\n",
      "        And -8x + 4y = -12\n",
      "The given equations represent the same line, therefore infinitely many solutions exist.\n",
      "\n",
      "You have given us the equations:\n",
      "            10x + 15y = 25\n",
      "        And -5x + -10y = -15\n",
      "\n",
      "    For the equations given we result in the following solutions:\n",
      "                    y= 1.0\n",
      "                    x= 10.0\n",
      "    \n"
     ]
    }
   ],
   "source": [
    "def solve_system(a1, b1, c1, a2, b2, c2):\n",
    "    #equation 1 is a1(x)+ b1(y) = c1\n",
    "    #equation 2 is a2(x)+ b2(y) = c2\n",
    "    #function  should return values of x and y if a solution exists and if other situations arise then we should specify this.\n",
    "    print(f\"\"\"\n",
    "You have given us the equations:\n",
    "            {a1}x + {b1}y = {c1}\n",
    "        And {a2}x + {b2}y = {c2}\"\"\")\n",
    "    \n",
    "    checkZeroSolution = a1 * b2 - a2 * b1\n",
    "\n",
    "    if checkZeroSolution == 0:\n",
    "        # Check for infinitely many solutions\n",
    "        if a2 != 0 and b2 != 0 and c2 != 0:\n",
    "            a_check = a1 / a2\n",
    "            b_check = b1 / b2\n",
    "            c_check = c1 / c2\n",
    "            if a_check == b_check == c_check:\n",
    "                print(\"The given equations represent the same line, therefore infinitely many solutions exist.\")\n",
    "                return\n",
    "        print(\"The given equations are parallel and have no solution.\")\n",
    "        return\n",
    "    else:\n",
    "        equation1 = [[a1, b1], [c1]]\n",
    "        equation2 = [[a2, b2], [c2]]\n",
    "        b1 = b1 * -1\n",
    "        b2 = b2 * -1\n",
    "        equation1, equation2, = [[a1],[c1, (b1)]], [[a2],[c2, (b2)]]\n",
    "        multeq1, multeq2 = equate_coeff(a1, a2) #gets A2 and multiplies each section of equation 1 by A2 and vise versa for A1\n",
    "        a1, b1, c1 = (variable * multeq1 for variable in (a1, b1, c1))\n",
    "        a2, b2, c2 = (variable * multeq2 for variable in (a2, b2, c2))\n",
    "        equation1, equation2, = [[a1],[c1, (b1)]], [[a2],[c2, (b2)]] #sets the equations with new coefficients.\n",
    "        equation3 = [[c1, b1],[c2, b2]] #equation 3 is basically y1 + c1 = y2 + c2\n",
    "        b3 = b1 - b2\n",
    "        c3 = c2 - c1\n",
    "        equation3 = [[b3],[c3]]\n",
    "        c3 = c3 / b3\n",
    "        b3 = b3 / b3\n",
    "        equation3 = [[b3],[c3]]\n",
    "        y =  c3\n",
    "        x = (c1 + (y * b1)) / multeq1\n",
    "        print(f\"\"\"\n",
    "    For the equations given we result in the following solutions:\n",
    "                    y= {y}\n",
    "                    x= {x}\n",
    "    \"\"\")\n",
    "\n",
    "\n",
    "def equate_coeff(a1, a2):\n",
    "    [a1, a2] = [a2, a1]\n",
    "    return a1, a2\n",
    "\n",
    "def checkInfinite(a1, b1, c1, a2, b2, c2):\n",
    "    if a2 != 0 and b2 != 0 and c2 != 0:\n",
    "        aCheck = a1 / a2\n",
    "        bCheck = b1 / b2\n",
    "        cCheck = c1 / c2\n",
    "        if aCheck == bCheck == cCheck:\n",
    "            return True\n",
    "    return False\n",
    "\n",
    "# Infinitely many solutions\n",
    "solve_system(1, 2, 3, 2, 4, 6)  \n",
    "solve_system(3, 6, 9, -3, -6, -9)  \n",
    "\n",
    "# No solution\n",
    "solve_system(1, 2, 3, 2, 4, 7)  \n",
    "solve_system(5, -3, 10, -10, 6, -15)  \n",
    "\n",
    "# Unique solution\n",
    "solve_system(2, 3, 8, 1, -2, -4)  \n",
    "solve_system(4, -2, 6, 1, 1, 5)  \n",
    "solve_system(1, 1, 2, 3, -4, 6)  \n",
    "solve_system(7, -5, 2, 3, 2, 8)  \n",
    "solve_system(6, -3, 9, -8, 4, -12)  \n",
    "solve_system(10, 15, 25, -5, -10, -15)  \n"
   ]
  }
 ],
 "metadata": {
  "kernelspec": {
   "display_name": "Python 3",
   "language": "python",
   "name": "python3"
  },
  "language_info": {
   "codemirror_mode": {
    "name": "ipython",
    "version": 3
   },
   "file_extension": ".py",
   "mimetype": "text/x-python",
   "name": "python",
   "nbconvert_exporter": "python",
   "pygments_lexer": "ipython3",
   "version": "3.11.9"
  }
 },
 "nbformat": 4,
 "nbformat_minor": 2
}
