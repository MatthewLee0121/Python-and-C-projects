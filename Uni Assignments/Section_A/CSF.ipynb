{
 "cells": [
  {
   "cell_type": "markdown",
   "metadata": {},
   "source": [
    "Project 2: \n",
    "\n",
    "Conditional Statements and Functions\n",
    "\n",
    "\n",
    "Objective: Apply conditional logic in Python using if, else, and elif\n",
    "statements.\n",
    "\n",
    "\n",
    "Instructions:\n",
    "\n",
    "\n",
    "1. Write a function classify_number(n) that takes a number n as input\n",
    "and classifies it as:\n",
    "\n",
    "\n",
    "        o \"Positive\" if the number is greater than zero.\n",
    "\n",
    "\n",
    "        o \"Negative\" if the number is less than zero.\n",
    "\n",
    "\n",
    "        o \"Zero\" if the number equals zero.\n",
    "\n",
    "2. Call the function with different numbers and print the result for each\n",
    "case.\n",
    "Extension:\n",
    "Expand the function to classify numbers as \"Even\" or \"Odd\" in addition to\n",
    "their sign (positive, negative, zero).\n"
   ]
  },
  {
   "cell_type": "markdown",
   "metadata": {},
   "source": []
  },
  {
   "cell_type": "code",
   "execution_count": 7,
   "metadata": {},
   "outputs": [
    {
     "name": "stdout",
     "output_type": "stream",
     "text": [
      "negative\n",
      "negative\n",
      "negative\n",
      "negative\n",
      "negative\n",
      "Zero\n",
      "positive\n",
      "positive\n",
      "positive\n",
      "positive\n",
      "positive\n"
     ]
    }
   ],
   "source": [
    "def classify_number(n):\n",
    "    if (n > 0):# == True:\n",
    "        print(\"positive\")\n",
    "    elif (n < 0):# == True:\n",
    "        print(\"negative\")\n",
    "    elif (n == 0):# == True:\n",
    "        print(\"Zero\") \n",
    "    else:\n",
    "        print(\"enter a number\")\n",
    "\n",
    "for i in range(-5, 6):\n",
    "    classify_number(i)"
   ]
  }
 ],
 "metadata": {
  "kernelspec": {
   "display_name": "Python 3",
   "language": "python",
   "name": "python3"
  },
  "language_info": {
   "codemirror_mode": {
    "name": "ipython",
    "version": 3
   },
   "file_extension": ".py",
   "mimetype": "text/x-python",
   "name": "python",
   "nbconvert_exporter": "python",
   "pygments_lexer": "ipython3",
   "version": "3.11.9"
  }
 },
 "nbformat": 4,
 "nbformat_minor": 2
}
