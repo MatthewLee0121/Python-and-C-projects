{
 "cells": [
  {
   "cell_type": "markdown",
   "metadata": {},
   "source": [
    "Project 2: \n",
    "\n",
    "Conditional Statements and Functions\n",
    "\n",
    "\n",
    "Objective: Apply conditional logic in Python using if, else, and elif\n",
    "statements.\n",
    "\n",
    "\n",
    "Instructions:\n",
    "\n",
    "\n",
    "1. Write a function classify_number(n) that takes a number n as input\n",
    "and classifies it as:\n",
    "\n",
    "\n",
    "        o \"Positive\" if the number is greater than zero.\n",
    "\n",
    "\n",
    "        o \"Negative\" if the number is less than zero.\n",
    "\n",
    "\n",
    "        o \"Zero\" if the number equals zero.\n",
    "\n",
    "2. Call the function with different numbers and print the result for each\n",
    "case.\n",
    "\n",
    "Extension:\n",
    "\n",
    "Expand the function to classify numbers as \"Even\" or \"Odd\" in addition to\n",
    "their sign (positive, negative, zero).\n"
   ]
  },
  {
   "cell_type": "markdown",
   "metadata": {},
   "source": [
    "Lets First Define the function"
   ]
  },
  {
   "cell_type": "code",
   "execution_count": 1,
   "metadata": {},
   "outputs": [],
   "source": [
    "def classify_number(n):\n",
    "    return 0"
   ]
  },
  {
   "cell_type": "markdown",
   "metadata": {},
   "source": [
    "Now lets comment out the function so I know what I want it to do"
   ]
  },
  {
   "cell_type": "code",
   "execution_count": 2,
   "metadata": {},
   "outputs": [],
   "source": [
    "def classify_number(n):\n",
    "    #print if a number is positive negative or 0\n",
    "    return 0"
   ]
  },
  {
   "cell_type": "markdown",
   "metadata": {},
   "source": [
    "Okay now lets write some If loops"
   ]
  },
  {
   "cell_type": "code",
   "execution_count": 3,
   "metadata": {},
   "outputs": [],
   "source": [
    "def classify_number(n):\n",
    "    #print if a number is positive negative or 0\n",
    "    if (n > 0):# == True:\n",
    "        print(\"positive\")\n",
    "    elif (n < 0):# == True:\n",
    "        print(\"negative\")\n",
    "    elif (n == 0):# == True:\n",
    "        print(\"Zero\") \n",
    "        \n"
   ]
  },
  {
   "cell_type": "markdown",
   "metadata": {},
   "source": [
    "Great now lets write a test to test some values quickly"
   ]
  },
  {
   "cell_type": "code",
   "execution_count": 4,
   "metadata": {},
   "outputs": [
    {
     "name": "stdout",
     "output_type": "stream",
     "text": [
      "negative\n",
      "negative\n",
      "negative\n",
      "negative\n",
      "negative\n",
      "Zero\n",
      "positive\n",
      "positive\n",
      "positive\n",
      "positive\n",
      "positive\n"
     ]
    }
   ],
   "source": [
    "def classify_number(n):\n",
    "    #print if a number is positive negative or 0\n",
    "    if (n > 0):# == True:\n",
    "        print(\"positive\")\n",
    "    elif (n < 0):# == True:\n",
    "        print(\"negative\")\n",
    "    elif (n == 0):# == True:\n",
    "        print(\"Zero\") \n",
    "        \n",
    "\n",
    "for i in range(-5, 6):\n",
    "    classify_number(i)"
   ]
  },
  {
   "cell_type": "markdown",
   "metadata": {},
   "source": [
    "Great but having else for the final statement of a If loop is bad practice, lets add a else statement for not a number"
   ]
  },
  {
   "cell_type": "markdown",
   "metadata": {},
   "source": []
  },
  {
   "cell_type": "code",
   "execution_count": 5,
   "metadata": {},
   "outputs": [
    {
     "name": "stdout",
     "output_type": "stream",
     "text": [
      "negative\n",
      "negative\n",
      "negative\n",
      "negative\n",
      "negative\n",
      "Zero\n",
      "positive\n",
      "positive\n",
      "positive\n",
      "positive\n",
      "positive\n"
     ]
    }
   ],
   "source": [
    "def classify_number(n):\n",
    "    #print if a number is positive negative or 0\n",
    "    if (n > 0):# == True:\n",
    "        print(\"positive\")\n",
    "    elif (n < 0):# == True:\n",
    "        print(\"negative\")\n",
    "    elif (n == 0):# == True:\n",
    "        print(\"Zero\") \n",
    "    else:\n",
    "        print(\"input not a number\")\n",
    "        \n",
    "\n",
    "for i in range(-5, 6):\n",
    "    classify_number(i)"
   ]
  },
  {
   "cell_type": "markdown",
   "metadata": {},
   "source": [
    "Extension:\n",
    "\n",
    "Expand the function to classify numbers as \"Even\" or \"Odd\" in addition to\n",
    "their sign (positive, negative, zero)."
   ]
  },
  {
   "cell_type": "markdown",
   "metadata": {},
   "source": [
    "Theres a few ways to do this the easiest way is with a %"
   ]
  },
  {
   "cell_type": "markdown",
   "metadata": {},
   "source": [
    "if num % 2 == 0: should be the basic code needed to complete this task, the real task is integrating it with the function"
   ]
  },
  {
   "cell_type": "code",
   "execution_count": 6,
   "metadata": {},
   "outputs": [],
   "source": [
    "def classify_number(n):\n",
    "    if n != 0:\n",
    "        if (n > 0):# == True:\n",
    "            condition1 = True\n",
    "        else:\n",
    "            condition1 = False\n",
    "        \n",
    "        if (n % 2 == 0):\n",
    "            condition2 = True\n",
    "        else:\n",
    "            condition2 = False"
   ]
  },
  {
   "cell_type": "markdown",
   "metadata": {},
   "source": [
    "I have decided to make both conditions a variable True or False condition 1 being greater than 0 == True and condition 2 being even == true. i have implemented this within a greater if statement to catch a 0 first. "
   ]
  },
  {
   "cell_type": "code",
   "execution_count": 7,
   "metadata": {},
   "outputs": [
    {
     "name": "stdout",
     "output_type": "stream",
     "text": [
      "The number given is a negative number,\n",
      "                                it is also odd\n",
      "The number given is a negative number,\n",
      "                                it is also even\n",
      "The number given is a negative number,\n",
      "                                it is also odd\n",
      "The number given is a negative number,\n",
      "                                it is also even\n",
      "The number given is a negative number,\n",
      "                                it is also odd\n",
      "The number given is 0.\n",
      "The number given is a positive number,\n",
      "                                it is also odd\n",
      "The number given is a positive number,\n",
      "                                it is also even\n",
      "The number given is a positive number,\n",
      "                                it is also odd\n",
      "The number given is a positive number,\n",
      "                                it is also even\n",
      "The number given is a positive number,\n",
      "                                it is also odd\n"
     ]
    }
   ],
   "source": [
    "def classify_number(n):\n",
    "    if n != 0:\n",
    "        if (n > 0):# == True:\n",
    "            condition1 = True\n",
    "        else:\n",
    "            condition1 = False\n",
    "        \n",
    "        if (n % 2 == 0):\n",
    "            condition2 = True\n",
    "        else:\n",
    "            condition2 = False\n",
    "        print(f\"\"\"The number given is {'a positive number' if condition1 else 'a negative number'},\n",
    "                                it is also {'even' if condition2  else 'odd'}\"\"\")\n",
    "    else:\n",
    "        print(\"The number given is 0.\")\n",
    "        \n",
    "for i in range(-5, 6):\n",
    "    classify_number(i)"
   ]
  },
  {
   "cell_type": "markdown",
   "metadata": {},
   "source": [
    "I have formatted the inner print string to give a different response based on the value of each condition and in the outer print statement i have printed the number is 0 and this is the only time where the function wont enter the inner for loops. Lets try to reduce the number of lines needed."
   ]
  },
  {
   "cell_type": "code",
   "execution_count": 8,
   "metadata": {},
   "outputs": [
    {
     "name": "stdout",
     "output_type": "stream",
     "text": [
      "The number given is a negative number,\n",
      "                                it is also odd\n",
      "The number given is a negative number,\n",
      "                                it is also even\n",
      "The number given is a negative number,\n",
      "                                it is also odd\n",
      "The number given is a negative number,\n",
      "                                it is also even\n",
      "The number given is a negative number,\n",
      "                                it is also odd\n",
      "The number given is 0.\n",
      "The number given is a positive number,\n",
      "                                it is also odd\n",
      "The number given is a positive number,\n",
      "                                it is also even\n",
      "The number given is a positive number,\n",
      "                                it is also odd\n",
      "The number given is a positive number,\n",
      "                                it is also even\n",
      "The number given is a positive number,\n",
      "                                it is also odd\n"
     ]
    }
   ],
   "source": [
    "def classify_number(n):\n",
    "    if n != 0:\n",
    "        condition1 = n > 0\n",
    "        condition2 = n % 2 == 0\n",
    "        print(f\"\"\"The number given is {'a positive number' if condition1 else 'a negative number'},\n",
    "                                it is also {'even' if condition2  else 'odd'}\"\"\")\n",
    "    else:\n",
    "        print(\"The number given is 0.\")\n",
    "        \n",
    "for i in range(-5, 6):\n",
    "    classify_number(i)"
   ]
  },
  {
   "cell_type": "markdown",
   "metadata": {},
   "source": [
    "Much nicer, i have reduced it down to only a few lines. I have also removed the extra if loops"
   ]
  }
 ],
 "metadata": {
  "kernelspec": {
   "display_name": "Python 3",
   "language": "python",
   "name": "python3"
  },
  "language_info": {
   "codemirror_mode": {
    "name": "ipython",
    "version": 3
   },
   "file_extension": ".py",
   "mimetype": "text/x-python",
   "name": "python",
   "nbconvert_exporter": "python",
   "pygments_lexer": "ipython3",
   "version": "3.11.9"
  }
 },
 "nbformat": 4,
 "nbformat_minor": 2
}
